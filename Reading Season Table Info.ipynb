{
 "cells": [
  {
   "cell_type": "code",
   "execution_count": null,
   "id": "096b7b64",
   "metadata": {},
   "outputs": [],
   "source": [
    "import selenium\n",
    "from selenium import webdriver\n",
    "import pandas as pd\n",
    "from selenium.webdriver.common.by import By"
   ]
  },
  {
   "cell_type": "code",
   "execution_count": null,
   "id": "658d37f6",
   "metadata": {
    "scrolled": true
   },
   "outputs": [],
   "source": [
    "wd = webdriver.Chrome(executable_path='C:\\\\Users\\\\erics\\\\Downloads\\\\Chrome Driver\\\\chromedriver.exe')\n",
    "wd.get('https://fbref.com/en/comps/9/2021-2022/2021-2022-Premier-League-Stats')"
   ]
  },
  {
   "cell_type": "code",
   "execution_count": null,
   "id": "03d86ef9",
   "metadata": {},
   "outputs": [],
   "source": [
    "wd.maximize_window()"
   ]
  },
  {
   "cell_type": "code",
   "execution_count": null,
   "id": "b036a8d8",
   "metadata": {},
   "outputs": [],
   "source": [
    "print(wd.title)"
   ]
  },
  {
   "cell_type": "code",
   "execution_count": null,
   "id": "d5c3df58",
   "metadata": {},
   "outputs": [],
   "source": [
    "javaScript = \"window.scrollBy(0, 1200);\"\n",
    "wd.execute_script(javaScript)"
   ]
  },
  {
   "cell_type": "code",
   "execution_count": null,
   "id": "cb766b2d",
   "metadata": {},
   "outputs": [],
   "source": [
    "homeAwayTable = wd.find_element_by_link_text(\"Home/Away\")"
   ]
  },
  {
   "cell_type": "code",
   "execution_count": null,
   "id": "4fa099c3",
   "metadata": {},
   "outputs": [],
   "source": [
    "homeAwayTable.click()"
   ]
  },
  {
   "cell_type": "code",
   "execution_count": null,
   "id": "1e756993",
   "metadata": {},
   "outputs": [],
   "source": [
    "teamsRanks = wd.find_elements_by_xpath('/html/body/div[2]/div[6]/div[3]/div[4]/div[3]/table/tbody/tr')"
   ]
  },
  {
   "cell_type": "code",
   "execution_count": null,
   "id": "ebb3ab00",
   "metadata": {},
   "outputs": [],
   "source": [
    "len(teamsRanks)"
   ]
  },
  {
   "cell_type": "code",
   "execution_count": null,
   "id": "1af35b5d",
   "metadata": {},
   "outputs": [],
   "source": [
    "allSeasonsDF = pd.DataFrame([], columns=[\n",
    "    'season', 'seasonRK', 'teamName', \n",
    "    'homeMP', 'homeW', 'homeD', 'homeL', 'homeGF', 'homeGA', 'homeGD', 'homePts', 'homePtsMP', 'homeXG', \n",
    "    'homeXGA', 'homeXGD', 'homeXGD90',\n",
    "    'awayMP', 'awayW', 'awayD', 'awayL', 'awayGF', 'awayGA', 'awayGD', 'awayPts', 'awayPtsMP', 'awayXG', \n",
    "    'awayXGA', 'awayXGD', 'awayXGD90'\n",
    "])"
   ]
  },
  {
   "cell_type": "code",
   "execution_count": null,
   "id": "394cb851",
   "metadata": {
    "scrolled": false
   },
   "outputs": [],
   "source": [
    "print(allSeasonsDF.columns.tolist())"
   ]
  },
  {
   "cell_type": "code",
   "execution_count": null,
   "id": "7e12c4ae",
   "metadata": {
    "scrolled": true
   },
   "outputs": [],
   "source": [
    "allSeasonsDF"
   ]
  },
  {
   "cell_type": "code",
   "execution_count": null,
   "id": "1b098e7e",
   "metadata": {},
   "outputs": [],
   "source": [
    "for team in teamsRanks:\n",
    "    t = team.find_elements_by_xpath('./child::*')\n",
    "    lst = ['2021-2022'] + [i.text for i in t]\n",
    "    allSeasonsDF = pd.concat([allSeasonsDF, pd.Series(lst, index=allSeasonsDF.columns).to_frame().T], \n",
    "                                 ignore_index=True)"
   ]
  },
  {
   "cell_type": "code",
   "execution_count": null,
   "id": "1e7a57db",
   "metadata": {},
   "outputs": [],
   "source": [
    "allSeasonsDF"
   ]
  },
  {
   "cell_type": "code",
   "execution_count": null,
   "id": "011a8abb",
   "metadata": {},
   "outputs": [],
   "source": []
  },
  {
   "cell_type": "code",
   "execution_count": null,
   "id": "300fc91b",
   "metadata": {},
   "outputs": [],
   "source": []
  },
  {
   "cell_type": "code",
   "execution_count": null,
   "id": "d0bf0be2",
   "metadata": {},
   "outputs": [],
   "source": []
  },
  {
   "cell_type": "code",
   "execution_count": null,
   "id": "0ea18243",
   "metadata": {},
   "outputs": [],
   "source": []
  },
  {
   "cell_type": "code",
   "execution_count": null,
   "id": "53334a63",
   "metadata": {},
   "outputs": [],
   "source": []
  },
  {
   "cell_type": "code",
   "execution_count": null,
   "id": "d64b6d13",
   "metadata": {},
   "outputs": [],
   "source": []
  },
  {
   "cell_type": "code",
   "execution_count": null,
   "id": "c9289018",
   "metadata": {},
   "outputs": [],
   "source": []
  },
  {
   "cell_type": "code",
   "execution_count": null,
   "id": "f88705b0",
   "metadata": {},
   "outputs": [],
   "source": []
  },
  {
   "cell_type": "code",
   "execution_count": null,
   "id": "61c96d0f",
   "metadata": {},
   "outputs": [],
   "source": []
  },
  {
   "cell_type": "code",
   "execution_count": null,
   "id": "6ab10b99",
   "metadata": {},
   "outputs": [],
   "source": []
  }
 ],
 "metadata": {
  "kernelspec": {
   "display_name": "Python 3 (ipykernel)",
   "language": "python",
   "name": "python3"
  },
  "language_info": {
   "codemirror_mode": {
    "name": "ipython",
    "version": 3
   },
   "file_extension": ".py",
   "mimetype": "text/x-python",
   "name": "python",
   "nbconvert_exporter": "python",
   "pygments_lexer": "ipython3",
   "version": "3.9.7"
  }
 },
 "nbformat": 4,
 "nbformat_minor": 5
}

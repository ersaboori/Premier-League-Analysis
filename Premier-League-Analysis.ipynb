{
 "cells": [
  {
   "cell_type": "code",
   "execution_count": null,
   "id": "096b7b64",
   "metadata": {},
   "outputs": [],
   "source": [
    "import selenium\n",
    "from selenium import webdriver\n",
    "import pandas as pd\n",
    "from selenium.webdriver.common.by import By\n",
    "from selenium.webdriver.common.keys import Keys"
   ]
  },
  {
   "cell_type": "code",
   "execution_count": null,
   "id": "809581bd",
   "metadata": {},
   "outputs": [],
   "source": [
    "wd = webdriver.Chrome(executable_path='C:\\\\Users\\\\erics\\\\Downloads\\\\Chrome Driver\\\\chromedriver.exe')\n",
    "url = 'https://fbref.com/en/comps/9/history/Premier-League-Seasons'\n",
    "wd.get(url)"
   ]
  },
  {
   "cell_type": "code",
   "execution_count": null,
   "id": "bfb96beb",
   "metadata": {},
   "outputs": [],
   "source": [
    "# Print HTML source code of the page\n",
    "print(wd.page_source)"
   ]
  },
  {
   "cell_type": "code",
   "execution_count": null,
   "id": "d1262847",
   "metadata": {},
   "outputs": [],
   "source": [
    "# Print page title\n",
    "print(wd.title)"
   ]
  },
  {
   "cell_type": "code",
   "execution_count": null,
   "id": "07ce017d",
   "metadata": {},
   "outputs": [],
   "source": [
    "# Print current page url\n",
    "print(wd.current_url)"
   ]
  },
  {
   "cell_type": "code",
   "execution_count": null,
   "id": "3225621d",
   "metadata": {},
   "outputs": [],
   "source": [
    "# Accessing an HTML element by it's text value\n",
    "search_str = '2022-2023'\n",
    "elmt = wd.find_element(By.LINK_TEXT, search_str)\n",
    "print(type(elmt))"
   ]
  },
  {
   "cell_type": "code",
   "execution_count": null,
   "id": "5c37ab2f",
   "metadata": {},
   "outputs": [],
   "source": [
    "# Accessing an HTML element text value\n",
    "elmt.text"
   ]
  },
  {
   "cell_type": "code",
   "execution_count": null,
   "id": "575df79d",
   "metadata": {},
   "outputs": [],
   "source": [
    "# Accessing an HTML element attribute\n",
    "elmt.get_attribute('href')"
   ]
  },
  {
   "cell_type": "code",
   "execution_count": null,
   "id": "c28315e0",
   "metadata": {},
   "outputs": [],
   "source": [
    "# Running javascript code to scroll down\n",
    "javaScript = \"window.scrollBy(0, 850);\"\n",
    "wd.execute_script(javaScript)"
   ]
  },
  {
   "cell_type": "code",
   "execution_count": null,
   "id": "519bed0a",
   "metadata": {},
   "outputs": [],
   "source": [
    "intLoc = wd.page_source.find(search_str)\n",
    "print(wd.page_source[intLoc : intLoc + 9])"
   ]
  },
  {
   "cell_type": "code",
   "execution_count": null,
   "id": "8c51de1a",
   "metadata": {},
   "outputs": [],
   "source": [
    "wd.maximize_window()"
   ]
  },
  {
   "cell_type": "markdown",
   "id": "9df39bb3",
   "metadata": {},
   "source": [
    "### Retrieve all the rows in the table"
   ]
  },
  {
   "cell_type": "code",
   "execution_count": null,
   "id": "2c060133",
   "metadata": {},
   "outputs": [],
   "source": [
    "seasons = wd.find_elements_by_xpath('//*[@id=\"seasons\"]/tbody/tr')"
   ]
  },
  {
   "cell_type": "code",
   "execution_count": null,
   "id": "7befb98e",
   "metadata": {},
   "outputs": [],
   "source": [
    "# Iterating over all the rows retrieved from table\n",
    "for i, x in enumerate(seasons):\n",
    "    print(i)\n",
    "    print(x.text)"
   ]
  },
  {
   "cell_type": "code",
   "execution_count": null,
   "id": "063c1029",
   "metadata": {
    "scrolled": true
   },
   "outputs": [],
   "source": [
    "# Checking length of the list\n",
    "len(seasons)"
   ]
  },
  {
   "cell_type": "code",
   "execution_count": null,
   "id": "5d3f3d6f",
   "metadata": {},
   "outputs": [],
   "source": [
    "# Finding irrelevant rows\n",
    "for i, x in enumerate([season for season in seasons if not (season.text.find('Season'))]):\n",
    "    print(i)\n",
    "    print(x.text)"
   ]
  },
  {
   "cell_type": "code",
   "execution_count": null,
   "id": "98ae7961",
   "metadata": {},
   "outputs": [],
   "source": [
    "# Removing irrelevant rows from the list by list comprehension\n",
    "seasons = [season for season in seasons if season.text.find('Season')]"
   ]
  },
  {
   "cell_type": "code",
   "execution_count": null,
   "id": "9cf2a544",
   "metadata": {
    "scrolled": true
   },
   "outputs": [],
   "source": [
    "# Checking length of the list\n",
    "len(seasons)"
   ]
  },
  {
   "cell_type": "code",
   "execution_count": null,
   "id": "118711b0",
   "metadata": {},
   "outputs": [],
   "source": [
    "# Creating a list of links to the season table for each season for the history of premier league\n",
    "plSList = [seasons[i].find_element_by_xpath('./child::*/a').get_attribute('href') for i in range(0, len(seasons))]"
   ]
  },
  {
   "cell_type": "code",
   "execution_count": null,
   "id": "acba8971",
   "metadata": {},
   "outputs": [],
   "source": [
    "plSList = plSList[1 : 21]"
   ]
  },
  {
   "cell_type": "code",
   "execution_count": null,
   "id": "8e4f241e",
   "metadata": {},
   "outputs": [],
   "source": [
    "for i, x in enumerate(plSList):\n",
    "    print(str(i) + \"\\t\" + x)"
   ]
  },
  {
   "cell_type": "code",
   "execution_count": null,
   "id": "187a22c2",
   "metadata": {},
   "outputs": [],
   "source": [
    "wd.close()"
   ]
  },
  {
   "cell_type": "code",
   "execution_count": null,
   "id": "89b59bb1",
   "metadata": {},
   "outputs": [],
   "source": [
    "allSeasonsDF = pd.DataFrame([], columns=[\n",
    "    'season', 'seasonRK', 'teamName', \n",
    "    'homeMP', 'homeW', 'homeD', 'homeL', 'homeGF', 'homeGA', 'homeGD', 'homePts', 'homePtsMP', 'homeXG', \n",
    "    'homeXGA', 'homeXGD', 'homeXGD90',\n",
    "    'awayMP', 'awayW', 'awayD', 'awayL', 'awayGF', 'awayGA', 'awayGD', 'awayPts', 'awayPtsMP', 'awayXG', \n",
    "    'awayXGA', 'awayXGD', 'awayXGD90'\n",
    "])"
   ]
  },
  {
   "cell_type": "code",
   "execution_count": null,
   "id": "f5ea886b",
   "metadata": {},
   "outputs": [],
   "source": [
    "def retrieveSeasonTable(df, seasonTableLink):\n",
    "    wd = webdriver.Chrome(executable_path='C:\\\\Users\\\\erics\\\\Downloads\\\\Chrome Driver\\\\chromedriver.exe')\n",
    "    wd.get(seasonTableLink)\n",
    "    wd.maximize_window()\n",
    "    wd.find_element_by_css_selector('body').send_keys(Keys.PAGE_DOWN)\n",
    "    homeAwayTable = wd.find_element_by_link_text(\"Home/Away\")\n",
    "    homeAwayTable.click()\n",
    "    teamsRanks = wd.find_elements_by_xpath('/html/body/div[2]/div[6]/div[3]/div[4]/div[3]/table/tbody/tr')\n",
    "    for team in teamsRanks:\n",
    "        t = team.find_elements_by_xpath('./child::*')\n",
    "        lst = ['2021-2022'] + [i.text for i in t]\n",
    "        df = pd.concat([df, pd.Series(lst, index=df.columns).to_frame().T], ignore_index=True)\n",
    "    wd.close()\n",
    "    return df"
   ]
  },
  {
   "cell_type": "code",
   "execution_count": null,
   "id": "0617d38f",
   "metadata": {},
   "outputs": [],
   "source": [
    "for lnk in plSList:\n",
    "    allSeasonsDF = retrieveSeasonTable(allSeasonsDF, lnk)"
   ]
  },
  {
   "cell_type": "code",
   "execution_count": null,
   "id": "da78aa74",
   "metadata": {},
   "outputs": [],
   "source": [
    "allSeasonsDF.to_excel('All Seasons Dataset.xlsx')"
   ]
  },
  {
   "cell_type": "code",
   "execution_count": null,
   "id": "5412d389",
   "metadata": {},
   "outputs": [],
   "source": []
  },
  {
   "cell_type": "code",
   "execution_count": null,
   "id": "8b2159cc",
   "metadata": {},
   "outputs": [],
   "source": []
  },
  {
   "cell_type": "code",
   "execution_count": null,
   "id": "7685cef9",
   "metadata": {},
   "outputs": [],
   "source": []
  },
  {
   "cell_type": "code",
   "execution_count": null,
   "id": "f0a346b1",
   "metadata": {},
   "outputs": [],
   "source": []
  },
  {
   "cell_type": "code",
   "execution_count": null,
   "id": "bee62070",
   "metadata": {},
   "outputs": [],
   "source": []
  },
  {
   "cell_type": "code",
   "execution_count": null,
   "id": "4ef86a70",
   "metadata": {},
   "outputs": [],
   "source": []
  },
  {
   "cell_type": "code",
   "execution_count": null,
   "id": "8a75d03c",
   "metadata": {},
   "outputs": [],
   "source": []
  },
  {
   "cell_type": "code",
   "execution_count": null,
   "id": "314cc327",
   "metadata": {},
   "outputs": [],
   "source": []
  },
  {
   "cell_type": "code",
   "execution_count": null,
   "id": "6ab10b99",
   "metadata": {},
   "outputs": [],
   "source": []
  }
 ],
 "metadata": {
  "kernelspec": {
   "display_name": "Python 3.9.7 ('base')",
   "language": "python",
   "name": "python3"
  },
  "language_info": {
   "codemirror_mode": {
    "name": "ipython",
    "version": 3
   },
   "file_extension": ".py",
   "mimetype": "text/x-python",
   "name": "python",
   "nbconvert_exporter": "python",
   "pygments_lexer": "ipython3",
   "version": "3.9.7"
  },
  "vscode": {
   "interpreter": {
    "hash": "ad2bdc8ecc057115af97d19610ffacc2b4e99fae6737bb82f5d7fb13d2f2c186"
   }
  }
 },
 "nbformat": 4,
 "nbformat_minor": 5
}
